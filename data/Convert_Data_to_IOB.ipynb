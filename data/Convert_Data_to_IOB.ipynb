{
 "cells": [
  {
   "cell_type": "markdown",
   "source": [
    "# Load Data from JSON\n",
    "convert data to dataframe and save it to csv file"
   ],
   "metadata": {
    "collapsed": false,
    "pycharm": {
     "name": "#%% md\n"
    }
   }
  },
  {
   "cell_type": "code",
   "execution_count": 1,
   "metadata": {
    "collapsed": true,
    "pycharm": {
     "name": "#%%\n"
    }
   },
   "outputs": [],
   "source": [
    "import pandas\n",
    "import pandas as pd\n",
    "from pandas import DataFrame\n",
    "from typing import List\n",
    "import spacy, srsly\n",
    "from spacy.training import docs_to_json, offsets_to_biluo_tags, biluo_tags_to_spans\n",
    "\n",
    "path_judgment_train: str = r\"../data/NER_TRAIN_JUDGEMENT.json\"\n",
    "path_preamble_train: str = r\"../data/NER_TRAIN_PREAMBLE.json\"\n",
    "\n",
    "path_judgment_dev: str = r\"../data/NER_DEV_JUDGEMENT.json\"\n",
    "path_preamble_dev: str = r\"../data/NER_DEV_PREAMBLE.json\""
   ]
  },
  {
   "cell_type": "markdown",
   "source": [
    "# load data"
   ],
   "metadata": {
    "collapsed": false,
    "pycharm": {
     "name": "#%% md\n"
    }
   }
  },
  {
   "cell_type": "code",
   "execution_count": 2,
   "outputs": [],
   "source": [
    "def load_data():\n",
    "    \"\"\"\n",
    "    Read the data from the json files and merge them together to one dataframe\n",
    "    :return:\n",
    "    \"\"\"\n",
    "    train_judgment_data: DataFrame = pd.read_json(path_judgment_train)\n",
    "    train_preamble_data: DataFrame = pd.read_json(path_preamble_train)\n",
    "\n",
    "    train_data: DataFrame = train_judgment_data.append(train_preamble_data)\n",
    "    train_data.index = [i for i in range(len(train_data))]\n",
    "    train_data.drop([\"meta\"], axis=1, inplace=True)\n",
    "\n",
    "    dev_judgment_data: DataFrame = pd.read_json(path_judgment_dev)\n",
    "    dev_preamble_data: DataFrame = pd.read_json(path_preamble_dev)\n",
    "\n",
    "    dev_data: DataFrame = dev_judgment_data.append(dev_preamble_data)\n",
    "    dev_data.index = [i for i in range(len(dev_data))]\n",
    "    dev_data.drop([\"meta\"], axis=1, inplace=True)\n",
    "\n",
    "    return train_data, dev_data\n",
    "\n",
    "def transform_annotations(annotations: List) -> List:\n",
    "    \"\"\"\n",
    "    Transform the Annotations from JSON format to a list of (start, end, label) tuples\n",
    "    :param annotations: A List of annotations for one Sentence\n",
    "    :return: A List of Tuples in format (start, end, label)\n",
    "    \"\"\"\n",
    "    r_annotations: List = []\n",
    "    for annotation in annotations:\n",
    "      for res in annotation['result']:\n",
    "        start = res['value']['start']\n",
    "        end = res['value']['end']\n",
    "        label = res['value']['labels'][0]\n",
    "        r_annotations.append((start, end, label))\n",
    "\n",
    "    return r_annotations"
   ],
   "metadata": {
    "collapsed": false,
    "pycharm": {
     "name": "#%%\n"
    }
   }
  },
  {
   "cell_type": "code",
   "execution_count": 3,
   "outputs": [
    {
     "name": "stderr",
     "output_type": "stream",
     "text": [
      "C:\\Users\\nic-e\\AppData\\Local\\Temp\\ipykernel_24108\\2930220995.py:9: FutureWarning: The frame.append method is deprecated and will be removed from pandas in a future version. Use pandas.concat instead.\n",
      "  train_data: DataFrame = train_judgment_data.append(train_preamble_data)\n",
      "C:\\Users\\nic-e\\AppData\\Local\\Temp\\ipykernel_24108\\2930220995.py:16: FutureWarning: The frame.append method is deprecated and will be removed from pandas in a future version. Use pandas.concat instead.\n",
      "  dev_data: DataFrame = dev_judgment_data.append(dev_preamble_data)\n"
     ]
    },
    {
     "data": {
      "text/plain": "                                              string  \\\n0  \\n\\n(7) On specific query by the Bench about a...   \n1  He was also asked whether Agya <span class=\"hi...   \n2   \\n5.2 CW3 Mr Vijay Mishra , Deputy Manager, H...   \n3  You are hereby asked not to carry out any cons...   \n4  The pillion rider T.V. Satyanarayana Murthy al...   \n\n                                            entities  \n0                  [(90, 103, ORG), (267, 278, ORG)]  \n1  [(26, 30, OTHER_PERSON), (101, 105, OTHER_PERS...  \n2  [(13, 25, WITNESS), (44, 60, ORG), (62, 64, GP...  \n3                                                 []  \n4                           [(18, 43, OTHER_PERSON)]  ",
      "text/html": "<div>\n<style scoped>\n    .dataframe tbody tr th:only-of-type {\n        vertical-align: middle;\n    }\n\n    .dataframe tbody tr th {\n        vertical-align: top;\n    }\n\n    .dataframe thead th {\n        text-align: right;\n    }\n</style>\n<table border=\"1\" class=\"dataframe\">\n  <thead>\n    <tr style=\"text-align: right;\">\n      <th></th>\n      <th>string</th>\n      <th>entities</th>\n    </tr>\n  </thead>\n  <tbody>\n    <tr>\n      <th>0</th>\n      <td>\\n\\n(7) On specific query by the Bench about a...</td>\n      <td>[(90, 103, ORG), (267, 278, ORG)]</td>\n    </tr>\n    <tr>\n      <th>1</th>\n      <td>He was also asked whether Agya &lt;span class=\"hi...</td>\n      <td>[(26, 30, OTHER_PERSON), (101, 105, OTHER_PERS...</td>\n    </tr>\n    <tr>\n      <th>2</th>\n      <td>\\n5.2 CW3 Mr Vijay Mishra , Deputy Manager, H...</td>\n      <td>[(13, 25, WITNESS), (44, 60, ORG), (62, 64, GP...</td>\n    </tr>\n    <tr>\n      <th>3</th>\n      <td>You are hereby asked not to carry out any cons...</td>\n      <td>[]</td>\n    </tr>\n    <tr>\n      <th>4</th>\n      <td>The pillion rider T.V. Satyanarayana Murthy al...</td>\n      <td>[(18, 43, OTHER_PERSON)]</td>\n    </tr>\n  </tbody>\n</table>\n</div>"
     },
     "execution_count": 3,
     "metadata": {},
     "output_type": "execute_result"
    }
   ],
   "source": [
    "train_data, dev_data = load_data()\n",
    "\n",
    "train_data[\"string\"] = train_data[\"data\"].map(lambda x: x[\"text\"])\n",
    "train_data['entities'] = train_data[\"annotations\"].map(transform_annotations)\n",
    "\n",
    "dev_data[\"string\"] = dev_data[\"data\"].map(lambda x: x[\"text\"])\n",
    "dev_data['entities'] = dev_data[\"annotations\"].map(transform_annotations)\n",
    "\n",
    "# drop unnecessary columns\n",
    "train_data.drop([\"annotations\", \"data\", \"id\"], axis=1, inplace=True)\n",
    "dev_data.drop([\"annotations\", \"data\", \"id\"], axis=1, inplace=True)\n",
    "train_data.head()"
   ],
   "metadata": {
    "collapsed": false,
    "pycharm": {
     "name": "#%%\n"
    }
   }
  },
  {
   "cell_type": "code",
   "execution_count": 4,
   "outputs": [
    {
     "data": {
      "text/plain": "                                              string  \\\n0  True, our Constitution has no 'due process' cl...   \n1  (See Principles of Statutory Interpretation by...   \n2  Their Lordships have said --  \"It is a sound r...   \n3  In para 13 of the plaint, it has been further ...   \n4  Counsel for appellants contended that who is t...   \n\n                                            entities  \n0  [(10, 22, STATUTE), (108, 155, PRECEDENT), (16...  \n1                                  [(55, 65, JUDGE)]  \n2        [(101, 108, GPE), (134, 140, OTHER_PERSON)]  \n3                [(252, 262, DATE), (313, 318, GPE)]  \n4  [(169, 175, PROVISION), (275, 286, PROVISION),...  ",
      "text/html": "<div>\n<style scoped>\n    .dataframe tbody tr th:only-of-type {\n        vertical-align: middle;\n    }\n\n    .dataframe tbody tr th {\n        vertical-align: top;\n    }\n\n    .dataframe thead th {\n        text-align: right;\n    }\n</style>\n<table border=\"1\" class=\"dataframe\">\n  <thead>\n    <tr style=\"text-align: right;\">\n      <th></th>\n      <th>string</th>\n      <th>entities</th>\n    </tr>\n  </thead>\n  <tbody>\n    <tr>\n      <th>0</th>\n      <td>True, our Constitution has no 'due process' cl...</td>\n      <td>[(10, 22, STATUTE), (108, 155, PRECEDENT), (16...</td>\n    </tr>\n    <tr>\n      <th>1</th>\n      <td>(See Principles of Statutory Interpretation by...</td>\n      <td>[(55, 65, JUDGE)]</td>\n    </tr>\n    <tr>\n      <th>2</th>\n      <td>Their Lordships have said --  \"It is a sound r...</td>\n      <td>[(101, 108, GPE), (134, 140, OTHER_PERSON)]</td>\n    </tr>\n    <tr>\n      <th>3</th>\n      <td>In para 13 of the plaint, it has been further ...</td>\n      <td>[(252, 262, DATE), (313, 318, GPE)]</td>\n    </tr>\n    <tr>\n      <th>4</th>\n      <td>Counsel for appellants contended that who is t...</td>\n      <td>[(169, 175, PROVISION), (275, 286, PROVISION),...</td>\n    </tr>\n  </tbody>\n</table>\n</div>"
     },
     "execution_count": 4,
     "metadata": {},
     "output_type": "execute_result"
    }
   ],
   "source": [
    "dev_data.head()"
   ],
   "metadata": {
    "collapsed": false,
    "pycharm": {
     "name": "#%%\n"
    }
   }
  },
  {
   "cell_type": "code",
   "execution_count": 5,
   "outputs": [
    {
     "name": "stdout",
     "output_type": "stream",
     "text": [
      "10995\n",
      "1074\n"
     ]
    }
   ],
   "source": [
    "print(len(train_data))\n",
    "print(len(dev_data))"
   ],
   "metadata": {
    "collapsed": false,
    "pycharm": {
     "name": "#%%\n"
    }
   }
  },
  {
   "cell_type": "markdown",
   "source": [
    "# Convert the raw data to IOB Format"
   ],
   "metadata": {
    "collapsed": false,
    "pycharm": {
     "name": "#%% md\n"
    }
   }
  },
  {
   "cell_type": "code",
   "execution_count": 6,
   "outputs": [],
   "source": [
    "nlp = spacy.load('en_core_web_sm')\n",
    "train_docs = []\n",
    "for index, row in train_data.iterrows():\n",
    "    doc = nlp(row['string']) # the string data\n",
    "    tags = offsets_to_biluo_tags(doc, row['entities'])\n",
    "    entities = biluo_tags_to_spans(doc, tags)\n",
    "    doc.ents = entities\n",
    "    train_docs.append(doc)"
   ],
   "metadata": {
    "collapsed": false,
    "pycharm": {
     "name": "#%%\n"
    }
   }
  },
  {
   "cell_type": "code",
   "execution_count": 7,
   "outputs": [
    {
     "name": "stderr",
     "output_type": "stream",
     "text": [
      "C:\\Users\\nic-e\\Documents\\GitHub\\anlp-final-project\\venv\\lib\\site-packages\\spacy\\training\\iob_utils.py:149: UserWarning: [W030] Some entities could not be aligned in the text \"This will be clarified in the instant case by comp...\" with entities \"[(60, 127, 'PROVISION')]\". Use `spacy.training.offsets_to_biluo_tags(nlp.make_doc(text), entities)` to check the alignment. Misaligned entities ('-') will be ignored during training.\n",
      "  warnings.warn(\n",
      "C:\\Users\\nic-e\\Documents\\GitHub\\anlp-final-project\\venv\\lib\\site-packages\\spacy\\training\\iob_utils.py:149: UserWarning: [W030] Some entities could not be aligned in the text \"\n",
      "\n",
      "Digitally signed by:RAJENDER SINGH KARKI Signing...\" with entities \"[(22, 42, 'OTHER_PERSON'), (56, 66, 'DATE')]\". Use `spacy.training.offsets_to_biluo_tags(nlp.make_doc(text), entities)` to check the alignment. Misaligned entities ('-') will be ignored during training.\n",
      "  warnings.warn(\n",
      "C:\\Users\\nic-e\\Documents\\GitHub\\anlp-final-project\\venv\\lib\\site-packages\\spacy\\training\\iob_utils.py:149: UserWarning: [W030] Some entities could not be aligned in the text \"It is seen from the record that the arbitration pr...\" with entities \"[(88, 99, 'OTHER_PERSON'), (171, 180, 'GPE')]\". Use `spacy.training.offsets_to_biluo_tags(nlp.make_doc(text), entities)` to check the alignment. Misaligned entities ('-') will be ignored during training.\n",
      "  warnings.warn(\n",
      "C:\\Users\\nic-e\\Documents\\GitHub\\anlp-final-project\\venv\\lib\\site-packages\\spacy\\training\\iob_utils.py:149: UserWarning: [W030] Some entities could not be aligned in the text \"It is in that context that the observations made b...\" with entities \"[(78, 85, 'OTHER_PERSON'), (205, 329, 'PRECEDENT')...\". Use `spacy.training.offsets_to_biluo_tags(nlp.make_doc(text), entities)` to check the alignment. Misaligned entities ('-') will be ignored during training.\n",
      "  warnings.warn(\n",
      "C:\\Users\\nic-e\\Documents\\GitHub\\anlp-final-project\\venv\\lib\\site-packages\\spacy\\training\\iob_utils.py:149: UserWarning: [W030] Some entities could not be aligned in the text \"68 Marata(J) final.doc available in the Sate of Ma...\" with entities \"[(48, 59, 'GPE'), (160, 170, 'COURT'), (193, 228, ...\". Use `spacy.training.offsets_to_biluo_tags(nlp.make_doc(text), entities)` to check the alignment. Misaligned entities ('-') will be ignored during training.\n",
      "  warnings.warn(\n",
      "C:\\Users\\nic-e\\Documents\\GitHub\\anlp-final-project\\venv\\lib\\site-packages\\spacy\\training\\iob_utils.py:149: UserWarning: [W030] Some entities could not be aligned in the text \"(Manohar Lal Sharma14; Committee for Protection of...\" with entities \"[(1, 19, 'OTHER_PERSON'), (23, 68, 'ORG')]\". Use `spacy.training.offsets_to_biluo_tags(nlp.make_doc(text), entities)` to check the alignment. Misaligned entities ('-') will be ignored during training.\n",
      "  warnings.warn(\n",
      "C:\\Users\\nic-e\\Documents\\GitHub\\anlp-final-project\\venv\\lib\\site-packages\\spacy\\training\\iob_utils.py:149: UserWarning: [W030] Some entities could not be aligned in the text \"The said judgment was reported in M. Venkateswara ...\" with entities \"[(32, 96, 'PRECEDENT')]\". Use `spacy.training.offsets_to_biluo_tags(nlp.make_doc(text), entities)` to check the alignment. Misaligned entities ('-') will be ignored during training.\n",
      "  warnings.warn(\n",
      "C:\\Users\\nic-e\\Documents\\GitHub\\anlp-final-project\\venv\\lib\\site-packages\\spacy\\training\\iob_utils.py:149: UserWarning: [W030] Some entities could not be aligned in the text \"\n",
      " Likewise, In the power of attorney (exhibit P/11...\" with entities \"[(70, 84, 'OTHER_PERSON'), (98, 109, 'OTHER_PERSON...\". Use `spacy.training.offsets_to_biluo_tags(nlp.make_doc(text), entities)` to check the alignment. Misaligned entities ('-') will be ignored during training.\n",
      "  warnings.warn(\n",
      "C:\\Users\\nic-e\\Documents\\GitHub\\anlp-final-project\\venv\\lib\\site-packages\\spacy\\training\\iob_utils.py:149: UserWarning: [W030] Some entities could not be aligned in the text \"\n",
      "\n",
      " (c) The aforesaid cheque was presented by the c...\" with entities \"[(93, 104, 'ORG'), (118, 127, 'GPE'), (226, 236, '...\". Use `spacy.training.offsets_to_biluo_tags(nlp.make_doc(text), entities)` to check the alignment. Misaligned entities ('-') will be ignored during training.\n",
      "  warnings.warn(\n",
      "C:\\Users\\nic-e\\Documents\\GitHub\\anlp-final-project\\venv\\lib\\site-packages\\spacy\\training\\iob_utils.py:149: UserWarning: [W030] Some entities could not be aligned in the text \"We may also point out that on an earlier occasion ...\" with entities \"[(92, 121, 'CASE_NUMBER'), (145, 173, 'PRECEDENT')...\". Use `spacy.training.offsets_to_biluo_tags(nlp.make_doc(text), entities)` to check the alignment. Misaligned entities ('-') will be ignored during training.\n",
      "  warnings.warn(\n",
      "C:\\Users\\nic-e\\Documents\\GitHub\\anlp-final-project\\venv\\lib\\site-packages\\spacy\\training\\iob_utils.py:149: UserWarning: [W030] Some entities could not be aligned in the text \"The respondent M/s. Ultratech Cement Ltd. (hereina...\" with entities \"[(20, 41, 'RESPONDENT'), (179, 191, 'OTHER_PERSON'...\". Use `spacy.training.offsets_to_biluo_tags(nlp.make_doc(text), entities)` to check the alignment. Misaligned entities ('-') will be ignored during training.\n",
      "  warnings.warn(\n",
      "C:\\Users\\nic-e\\Documents\\GitHub\\anlp-final-project\\venv\\lib\\site-packages\\spacy\\training\\iob_utils.py:149: UserWarning: [W030] Some entities could not be aligned in the text \"It is further urged that the aforesaid three decis...\" with entities \"[(113, 126, 'COURT'), (190, 209, 'ORG')]\". Use `spacy.training.offsets_to_biluo_tags(nlp.make_doc(text), entities)` to check the alignment. Misaligned entities ('-') will be ignored during training.\n",
      "  warnings.warn(\n",
      "C:\\Users\\nic-e\\Documents\\GitHub\\anlp-final-project\\venv\\lib\\site-packages\\spacy\\training\\iob_utils.py:149: UserWarning: [W030] Some entities could not be aligned in the text \"\n",
      "    Commercial Complex, Raj Bhavan Road, Hyderaba...\" with entities \"[(42, 51, 'GPE')]\". Use `spacy.training.offsets_to_biluo_tags(nlp.make_doc(text), entities)` to check the alignment. Misaligned entities ('-') will be ignored during training.\n",
      "  warnings.warn(\n",
      "C:\\Users\\nic-e\\Documents\\GitHub\\anlp-final-project\\venv\\lib\\site-packages\\spacy\\training\\iob_utils.py:149: UserWarning: [W030] Some entities could not be aligned in the text \"There is no mechanism for Patna High Court REQ. CA...\" with entities \"[(26, 42, 'COURT'), (48, 68, 'CASE_NUMBER'), (72, ...\". Use `spacy.training.offsets_to_biluo_tags(nlp.make_doc(text), entities)` to check the alignment. Misaligned entities ('-') will be ignored during training.\n",
      "  warnings.warn(\n",
      "C:\\Users\\nic-e\\Documents\\GitHub\\anlp-final-project\\venv\\lib\\site-packages\\spacy\\training\\iob_utils.py:149: UserWarning: [W030] Some entities could not be aligned in the text \"Mr. Arun Bharadwaj, ld. CGSC, appearing for the Un...\" with entities \"[(4, 18, 'OTHER_PERSON'), (48, 62, 'ORG'), (111, 1...\". Use `spacy.training.offsets_to_biluo_tags(nlp.make_doc(text), entities)` to check the alignment. Misaligned entities ('-') will be ignored during training.\n",
      "  warnings.warn(\n",
      "C:\\Users\\nic-e\\Documents\\GitHub\\anlp-final-project\\venv\\lib\\site-packages\\spacy\\training\\iob_utils.py:149: UserWarning: [W030] Some entities could not be aligned in the text \"High Court Of Judicature At Allahabad\n",
      " \n",
      " \n",
      "\n",
      "       ...\" with entities \"[(0, 37, 'COURT'), (315, 354, 'PETITIONER'), (371,...\". Use `spacy.training.offsets_to_biluo_tags(nlp.make_doc(text), entities)` to check the alignment. Misaligned entities ('-') will be ignored during training.\n",
      "  warnings.warn(\n",
      "C:\\Users\\nic-e\\Documents\\GitHub\\anlp-final-project\\venv\\lib\\site-packages\\spacy\\training\\iob_utils.py:149: UserWarning: [W030] Some entities could not be aligned in the text \"In The High Court For The State Of Telangana\n",
      "     ...\" with entities \"[(7, 45, 'COURT'), (190, 201, 'JUDGE'), (330, 348,...\". Use `spacy.training.offsets_to_biluo_tags(nlp.make_doc(text), entities)` to check the alignment. Misaligned entities ('-') will be ignored during training.\n",
      "  warnings.warn(\n",
      "C:\\Users\\nic-e\\Documents\\GitHub\\anlp-final-project\\venv\\lib\\site-packages\\spacy\\training\\iob_utils.py:149: UserWarning: [W030] Some entities could not be aligned in the text \"In The High Court Of Judicature At Madras\n",
      "\n",
      "       ...\" with entities \"[(7, 41, 'COURT'), (232, 244, 'JUDGE'), (342, 432,...\". Use `spacy.training.offsets_to_biluo_tags(nlp.make_doc(text), entities)` to check the alignment. Misaligned entities ('-') will be ignored during training.\n",
      "  warnings.warn(\n",
      "C:\\Users\\nic-e\\Documents\\GitHub\\anlp-final-project\\venv\\lib\\site-packages\\spacy\\training\\iob_utils.py:149: UserWarning: [W030] Some entities could not be aligned in the text \"In The High Court Of Karnataka At Bengaluru\n",
      "\n",
      "    D...\" with entities \"[(7, 43, 'COURT'), (138, 159, 'JUDGE'), (291, 307,...\". Use `spacy.training.offsets_to_biluo_tags(nlp.make_doc(text), entities)` to check the alignment. Misaligned entities ('-') will be ignored during training.\n",
      "  warnings.warn(\n",
      "C:\\Users\\nic-e\\Documents\\GitHub\\anlp-final-project\\venv\\lib\\site-packages\\spacy\\training\\iob_utils.py:149: UserWarning: [W030] Some entities could not be aligned in the text \"Honourable Dr. Justice B.Siva Sankara Rao         ...\" with entities \"[(23, 41, 'JUDGE'), (103, 125, 'PETITIONER'), (174...\". Use `spacy.training.offsets_to_biluo_tags(nlp.make_doc(text), entities)` to check the alignment. Misaligned entities ('-') will be ignored during training.\n",
      "  warnings.warn(\n",
      "C:\\Users\\nic-e\\Documents\\GitHub\\anlp-final-project\\venv\\lib\\site-packages\\spacy\\training\\iob_utils.py:149: UserWarning: [W030] Some entities could not be aligned in the text \"W.P.No.9267 of 2017\n",
      "\n",
      "                             ...\" with entities \"[(63, 97, 'COURT'), (295, 306, 'JUDGE'), (426, 444...\". Use `spacy.training.offsets_to_biluo_tags(nlp.make_doc(text), entities)` to check the alignment. Misaligned entities ('-') will be ignored during training.\n",
      "  warnings.warn(\n",
      "C:\\Users\\nic-e\\Documents\\GitHub\\anlp-final-project\\venv\\lib\\site-packages\\spacy\\training\\iob_utils.py:149: UserWarning: [W030] Some entities could not be aligned in the text \"1\n",
      "\n",
      "\n",
      "                                              ...\" with entities \"[(120, 142, 'COURT'), (269, 283, 'PETITIONER'), (4...\". Use `spacy.training.offsets_to_biluo_tags(nlp.make_doc(text), entities)` to check the alignment. Misaligned entities ('-') will be ignored during training.\n",
      "  warnings.warn(\n",
      "C:\\Users\\nic-e\\Documents\\GitHub\\anlp-final-project\\venv\\lib\\site-packages\\spacy\\training\\iob_utils.py:149: UserWarning: [W030] Some entities could not be aligned in the text \"C/Lpa/1655/2019                             Judgme...\" with entities \"[(95, 129, 'COURT'), (466, 479, 'JUDGE'), (545, 56...\". Use `spacy.training.offsets_to_biluo_tags(nlp.make_doc(text), entities)` to check the alignment. Misaligned entities ('-') will be ignored during training.\n",
      "  warnings.warn(\n",
      "C:\\Users\\nic-e\\Documents\\GitHub\\anlp-final-project\\venv\\lib\\site-packages\\spacy\\training\\iob_utils.py:149: UserWarning: [W030] Some entities could not be aligned in the text \"Non­Reportable\n",
      "                                 In...\" with entities \"[(55, 77, 'COURT'), (218, 236, 'PETITIONER'), (339...\". Use `spacy.training.offsets_to_biluo_tags(nlp.make_doc(text), entities)` to check the alignment. Misaligned entities ('-') will be ignored during training.\n",
      "  warnings.warn(\n",
      "C:\\Users\\nic-e\\Documents\\GitHub\\anlp-final-project\\venv\\lib\\site-packages\\spacy\\training\\iob_utils.py:149: UserWarning: [W030] Some entities could not be aligned in the text \"High Court Of Judicature At Allahabad\n",
      " \n",
      " \n",
      "\n",
      "Afr\n",
      " \n",
      "R...\" with entities \"[(0, 37, 'COURT'), (130, 168, 'PETITIONER'), (197,...\". Use `spacy.training.offsets_to_biluo_tags(nlp.make_doc(text), entities)` to check the alignment. Misaligned entities ('-') will be ignored during training.\n",
      "  warnings.warn(\n",
      "C:\\Users\\nic-e\\Documents\\GitHub\\anlp-final-project\\venv\\lib\\site-packages\\spacy\\training\\iob_utils.py:149: UserWarning: [W030] Some entities could not be aligned in the text \"1\n",
      "\n",
      "                            Before The Madurai ...\" with entities \"[(42, 76, 'COURT'), (268, 280, 'JUDGE'), (543, 573...\". Use `spacy.training.offsets_to_biluo_tags(nlp.make_doc(text), entities)` to check the alignment. Misaligned entities ('-') will be ignored during training.\n",
      "  warnings.warn(\n",
      "C:\\Users\\nic-e\\Documents\\GitHub\\anlp-final-project\\venv\\lib\\site-packages\\spacy\\training\\iob_utils.py:149: UserWarning: [W030] Some entities could not be aligned in the text \"High Court Of Judicature At Allahabad, Lucknow Ben...\" with entities \"[(0, 52, 'COURT'), (175, 184, 'PETITIONER'), (213,...\". Use `spacy.training.offsets_to_biluo_tags(nlp.make_doc(text), entities)` to check the alignment. Misaligned entities ('-') will be ignored during training.\n",
      "  warnings.warn(\n"
     ]
    }
   ],
   "source": [
    "dev_docs = []\n",
    "for index, row in dev_data.iterrows():\n",
    "    doc = nlp(row['string']) # the string data\n",
    "    tags = offsets_to_biluo_tags(doc, row['entities'])\n",
    "    entities = biluo_tags_to_spans(doc, tags)\n",
    "    doc.ents = entities\n",
    "    dev_docs.append(doc)"
   ],
   "metadata": {
    "collapsed": false,
    "pycharm": {
     "name": "#%%\n"
    }
   }
  },
  {
   "cell_type": "code",
   "execution_count": 8,
   "outputs": [
    {
     "name": "stdout",
     "output_type": "stream",
     "text": [
      "<class 'spacy.tokens.doc.Doc'>\n",
      "\n",
      "\n",
      "(7) On specific query by the Bench about an entry of Rs. 1,31,37,500 on deposit side of Hongkong Bank account of which a photo copy is appearing at p. 40 of assessee's paper book, learned authorised representative submitted that it was related to loan from broker, Rahul & Co. on the basis of his submission a necessary mark is put by us on that photo copy.\n",
      "(Hongkong Bank, Rahul & Co.)\n"
     ]
    }
   ],
   "source": [
    "print(type(train_docs[0]))\n",
    "print(train_docs[0])\n",
    "print(train_docs[0].ents)"
   ],
   "metadata": {
    "collapsed": false,
    "pycharm": {
     "name": "#%%\n"
    }
   }
  },
  {
   "cell_type": "markdown",
   "source": [
    "# Unpack the iob tokens from above\n",
    "since docs is a list of <class 'spacy.tokens.doc.Doc'> it will be unpacked into a normal list"
   ],
   "metadata": {
    "collapsed": false,
    "pycharm": {
     "name": "#%% md\n"
    }
   }
  },
  {
   "cell_type": "code",
   "execution_count": 9,
   "outputs": [
    {
     "data": {
      "text/plain": "                                              string  \\\n0  \\n\\n(7) On specific query by the Bench about a...   \n1  He was also asked whether Agya <span class=\"hi...   \n2   \\n5.2 CW3 Mr Vijay Mishra , Deputy Manager, H...   \n3  You are hereby asked not to carry out any cons...   \n4  The pillion rider T.V. Satyanarayana Murthy al...   \n\n                                            entities  \\\n0                  [(90, 103, ORG), (267, 278, ORG)]   \n1  [(26, 30, OTHER_PERSON), (101, 105, OTHER_PERS...   \n2  [(13, 25, WITNESS), (44, 60, ORG), (62, 64, GP...   \n3                                                 []   \n4                           [(18, 43, OTHER_PERSON)]   \n\n                                            sentence  \\\n0  [\\n\\n, (, 7, ), On, specific, query, by, the, ...   \n1  [He, was, also, asked, whether, Agya, <, span,...   \n2  [ \\n, 5.2, CW3, Mr, Vijay, Mishra, ,, Deputy, ...   \n3  [You, are, hereby, asked, not, to, carry, out,...   \n4  [The, pillion, rider, T.V., Satyanarayana, Mur...   \n\n                                               biluo  \n0  [O, O, O, O, O, O, O, O, O, O, O, O, O, O, O, ...  \n1  [O, O, O, O, O, U-OTHER_PERSON, O, O, O, O, O,...  \n2  [O, O, O, O, B-WITNESS, L-WITNESS, O, O, O, O,...  \n3  [O, O, O, O, O, O, O, O, O, O, O, O, O, O, O, ...  \n4  [O, O, O, B-OTHER_PERSON, I-OTHER_PERSON, L-OT...  ",
      "text/html": "<div>\n<style scoped>\n    .dataframe tbody tr th:only-of-type {\n        vertical-align: middle;\n    }\n\n    .dataframe tbody tr th {\n        vertical-align: top;\n    }\n\n    .dataframe thead th {\n        text-align: right;\n    }\n</style>\n<table border=\"1\" class=\"dataframe\">\n  <thead>\n    <tr style=\"text-align: right;\">\n      <th></th>\n      <th>string</th>\n      <th>entities</th>\n      <th>sentence</th>\n      <th>biluo</th>\n    </tr>\n  </thead>\n  <tbody>\n    <tr>\n      <th>0</th>\n      <td>\\n\\n(7) On specific query by the Bench about a...</td>\n      <td>[(90, 103, ORG), (267, 278, ORG)]</td>\n      <td>[\\n\\n, (, 7, ), On, specific, query, by, the, ...</td>\n      <td>[O, O, O, O, O, O, O, O, O, O, O, O, O, O, O, ...</td>\n    </tr>\n    <tr>\n      <th>1</th>\n      <td>He was also asked whether Agya &lt;span class=\"hi...</td>\n      <td>[(26, 30, OTHER_PERSON), (101, 105, OTHER_PERS...</td>\n      <td>[He, was, also, asked, whether, Agya, &lt;, span,...</td>\n      <td>[O, O, O, O, O, U-OTHER_PERSON, O, O, O, O, O,...</td>\n    </tr>\n    <tr>\n      <th>2</th>\n      <td>\\n5.2 CW3 Mr Vijay Mishra , Deputy Manager, H...</td>\n      <td>[(13, 25, WITNESS), (44, 60, ORG), (62, 64, GP...</td>\n      <td>[ \\n, 5.2, CW3, Mr, Vijay, Mishra, ,, Deputy, ...</td>\n      <td>[O, O, O, O, B-WITNESS, L-WITNESS, O, O, O, O,...</td>\n    </tr>\n    <tr>\n      <th>3</th>\n      <td>You are hereby asked not to carry out any cons...</td>\n      <td>[]</td>\n      <td>[You, are, hereby, asked, not, to, carry, out,...</td>\n      <td>[O, O, O, O, O, O, O, O, O, O, O, O, O, O, O, ...</td>\n    </tr>\n    <tr>\n      <th>4</th>\n      <td>The pillion rider T.V. Satyanarayana Murthy al...</td>\n      <td>[(18, 43, OTHER_PERSON)]</td>\n      <td>[The, pillion, rider, T.V., Satyanarayana, Mur...</td>\n      <td>[O, O, O, B-OTHER_PERSON, I-OTHER_PERSON, L-OT...</td>\n    </tr>\n  </tbody>\n</table>\n</div>"
     },
     "execution_count": 9,
     "metadata": {},
     "output_type": "execute_result"
    }
   ],
   "source": [
    "unpacked_train_data = []\n",
    "for paragraph in docs_to_json(train_docs)['paragraphs']:\n",
    "    tokenized = []\n",
    "    iob = []\n",
    "    for sentence in paragraph['sentences']:\n",
    "        for token in sentence['tokens']:\n",
    "            iob.append(token['ner'])\n",
    "            tokenized.append(token['orth'])\n",
    "\n",
    "    unpacked_train_data.append((tokenized, iob))\n",
    "train_df: DataFrame= pd.DataFrame(unpacked_train_data, columns=['sentence', 'entities'])\n",
    "train_data[\"sentence\"] = train_df[\"sentence\"]\n",
    "train_data[\"biluo\"] = train_df[\"entities\"]\n",
    "train_data.head()"
   ],
   "metadata": {
    "collapsed": false,
    "pycharm": {
     "name": "#%%\n"
    }
   }
  },
  {
   "cell_type": "code",
   "execution_count": 10,
   "outputs": [
    {
     "data": {
      "text/plain": "                                              string  \\\n0  True, our Constitution has no 'due process' cl...   \n1  (See Principles of Statutory Interpretation by...   \n2  Their Lordships have said --  \"It is a sound r...   \n3  In para 13 of the plaint, it has been further ...   \n4  Counsel for appellants contended that who is t...   \n\n                                            entities  \\\n0  [(10, 22, STATUTE), (108, 155, PRECEDENT), (16...   \n1                                  [(55, 65, JUDGE)]   \n2        [(101, 108, GPE), (134, 140, OTHER_PERSON)]   \n3                [(252, 262, DATE), (313, 318, GPE)]   \n4  [(169, 175, PROVISION), (275, 286, PROVISION),...   \n\n                                            sentence  \\\n0  [True, ,, our, Constitution, has, no, ', due, ...   \n1  [(, See, Principles, of, Statutory, Interpreta...   \n2  [Their, Lordships, have, said, --,  , \", It, i...   \n3  [In, para, 13, of, the, plaint, ,, it, has, be...   \n4  [Counsel, for, appellants, contended, that, wh...   \n\n                                               biluo  \n0  [O, O, O, U-STATUTE, O, O, O, O, O, O, O, O, O...  \n1  [O, O, O, O, O, O, O, O, B-JUDGE, L-JUDGE, O, ...  \n2  [O, O, O, O, O, O, O, O, O, O, O, O, O, O, O, ...  \n3  [O, O, O, O, O, O, O, O, O, O, O, O, O, O, O, ...  \n4  [O, O, O, O, O, O, O, O, O, O, O, O, O, O, O, ...  ",
      "text/html": "<div>\n<style scoped>\n    .dataframe tbody tr th:only-of-type {\n        vertical-align: middle;\n    }\n\n    .dataframe tbody tr th {\n        vertical-align: top;\n    }\n\n    .dataframe thead th {\n        text-align: right;\n    }\n</style>\n<table border=\"1\" class=\"dataframe\">\n  <thead>\n    <tr style=\"text-align: right;\">\n      <th></th>\n      <th>string</th>\n      <th>entities</th>\n      <th>sentence</th>\n      <th>biluo</th>\n    </tr>\n  </thead>\n  <tbody>\n    <tr>\n      <th>0</th>\n      <td>True, our Constitution has no 'due process' cl...</td>\n      <td>[(10, 22, STATUTE), (108, 155, PRECEDENT), (16...</td>\n      <td>[True, ,, our, Constitution, has, no, ', due, ...</td>\n      <td>[O, O, O, U-STATUTE, O, O, O, O, O, O, O, O, O...</td>\n    </tr>\n    <tr>\n      <th>1</th>\n      <td>(See Principles of Statutory Interpretation by...</td>\n      <td>[(55, 65, JUDGE)]</td>\n      <td>[(, See, Principles, of, Statutory, Interpreta...</td>\n      <td>[O, O, O, O, O, O, O, O, B-JUDGE, L-JUDGE, O, ...</td>\n    </tr>\n    <tr>\n      <th>2</th>\n      <td>Their Lordships have said --  \"It is a sound r...</td>\n      <td>[(101, 108, GPE), (134, 140, OTHER_PERSON)]</td>\n      <td>[Their, Lordships, have, said, --,  , \", It, i...</td>\n      <td>[O, O, O, O, O, O, O, O, O, O, O, O, O, O, O, ...</td>\n    </tr>\n    <tr>\n      <th>3</th>\n      <td>In para 13 of the plaint, it has been further ...</td>\n      <td>[(252, 262, DATE), (313, 318, GPE)]</td>\n      <td>[In, para, 13, of, the, plaint, ,, it, has, be...</td>\n      <td>[O, O, O, O, O, O, O, O, O, O, O, O, O, O, O, ...</td>\n    </tr>\n    <tr>\n      <th>4</th>\n      <td>Counsel for appellants contended that who is t...</td>\n      <td>[(169, 175, PROVISION), (275, 286, PROVISION),...</td>\n      <td>[Counsel, for, appellants, contended, that, wh...</td>\n      <td>[O, O, O, O, O, O, O, O, O, O, O, O, O, O, O, ...</td>\n    </tr>\n  </tbody>\n</table>\n</div>"
     },
     "execution_count": 10,
     "metadata": {},
     "output_type": "execute_result"
    }
   ],
   "source": [
    "unpacked_dev_data = []\n",
    "for paragraph in docs_to_json(dev_docs)['paragraphs']:\n",
    "    tokenized = []\n",
    "    iob = []\n",
    "    for sentence in paragraph['sentences']:\n",
    "        for token in sentence['tokens']:\n",
    "            iob.append(token['ner'])\n",
    "            tokenized.append(token['orth'])\n",
    "\n",
    "    unpacked_dev_data.append((tokenized, iob))\n",
    "dev_df: DataFrame= pd.DataFrame(unpacked_dev_data, columns=['sentence', 'entities'])\n",
    "dev_data[\"sentence\"] = dev_df[\"sentence\"]\n",
    "dev_data[\"biluo\"] = dev_df[\"entities\"]\n",
    "dev_data.head()\n"
   ],
   "metadata": {
    "collapsed": false,
    "pycharm": {
     "name": "#%%\n"
    }
   }
  },
  {
   "cell_type": "code",
   "execution_count": 11,
   "outputs": [
    {
     "name": "stdout",
     "output_type": "stream",
     "text": [
      "[(90, 103, 'ORG'), (267, 278, 'ORG')]\n",
      "['O', 'O', 'O', 'O', 'O', 'O', 'O', 'O', 'O', 'O', 'O', 'O', 'O', 'O', 'O', 'O', 'O', 'O', 'O', 'O', 'O', 'B-ORG', 'L-ORG', 'O', 'O', 'O', 'O', 'O', 'O', 'O', 'O', 'O', 'O', 'O', 'O', 'O', 'O', 'O', 'O', 'O', 'O', 'O', 'O', 'O', 'O', 'O', 'O', 'O', 'O', 'O', 'O', 'O', 'O', 'B-ORG', 'I-ORG', 'L-ORG', 'O', 'O', 'O', 'O', 'O', 'O', 'O', 'O', 'O', 'O', 'O', 'O', 'O', 'O', 'O', 'O', 'O', 'O']\n"
     ]
    }
   ],
   "source": [
    "print(train_data[\"entities\"][0])\n",
    "print(train_data[\"biluo\"][0])"
   ],
   "metadata": {
    "collapsed": false,
    "pycharm": {
     "name": "#%%\n"
    }
   }
  },
  {
   "cell_type": "markdown",
   "source": [
    "## Check, whether the created tokens fit to the biluo tags"
   ],
   "metadata": {
    "collapsed": false,
    "pycharm": {
     "name": "#%% md\n"
    }
   }
  },
  {
   "cell_type": "code",
   "execution_count": 12,
   "outputs": [
    {
     "name": "stdout",
     "output_type": "stream",
     "text": [
      "['\\n\\n', '(', '7', ')', 'On', 'specific', 'query', 'by', 'the', 'Bench', 'about', 'an', 'entry', 'of', 'Rs', '.', '1,31,37,500', 'on', 'deposit', 'side', 'of', 'Hongkong', 'Bank', 'account', 'of', 'which', 'a', 'photo', 'copy', 'is', 'appearing', 'at', 'p.', '40', 'of', 'assessee', \"'s\", 'paper', 'book', ',', 'learned', 'authorised', 'representative', 'submitted', 'that', 'it', 'was', 'related', 'to', 'loan', 'from', 'broker', ',', 'Rahul', '&', 'Co.', 'on', 'the', 'basis', 'of', 'his', 'submission', 'a', 'necessary', 'mark', 'is', 'put', 'by', 'us', 'on', 'that', 'photo', 'copy', '.']\n",
      "Hongkong B-ORG\n",
      "Bank L-ORG\n",
      "Rahul B-ORG\n",
      "& I-ORG\n",
      "Co. L-ORG\n",
      "['He', 'was', 'also', 'asked', 'whether', 'Agya', '<', 'span', 'class=\"hidden_text', '\"', 'id=\"span_5', '\"', '>', 'CRA', 'No.326', '-', 'DB', 'of', '1998', '6</span', '>', 'Kaur', ',', 'mother', '-', 'in', '-', 'law', 'of', 'the', 'deceased', 'lived', 'separately', 'from', 'Tarlochan', 'Singh', '.']\n",
      "Agya U-OTHER_PERSON\n",
      "Kaur U-OTHER_PERSON\n",
      "Tarlochan B-OTHER_PERSON\n",
      "Singh L-OTHER_PERSON\n",
      "[' \\n', '5.2', 'CW3', 'Mr', 'Vijay', 'Mishra', ',', 'Deputy', 'Manager', ',', 'HDFC', 'Bank', ',', 'Noida', ',', 'UP', 'has', 'deposed', 'that', 'complainant', 'had', 'a', 'current', 'account', 'with', 'HDFC', 'Bank', 'in', 'the', 'year', '2004\\xad2005', '.']\n",
      "Vijay B-WITNESS\n",
      "Mishra L-WITNESS\n",
      "HDFC B-ORG\n",
      "Bank I-ORG\n",
      ", I-ORG\n",
      "Noida L-ORG\n",
      "UP U-GPE\n",
      "HDFC B-ORG\n",
      "Bank L-ORG\n",
      "['You', 'are', 'hereby', 'asked', 'not', 'to', 'carry', 'out', 'any', 'construction', 'work', 'of', 'the', 'said', 'building', 'hereafter', 'since', 'the', 'agreement', 'has', 'been', 'terminated', '\"', '.']\n",
      "['The', 'pillion', 'rider', 'T.V.', 'Satyanarayana', 'Murthy', 'also', 'sustained', 'injuries', '.']\n",
      "T.V. B-OTHER_PERSON\n",
      "Satyanarayana I-OTHER_PERSON\n",
      "Murthy L-OTHER_PERSON\n",
      "[',', 'if', 'the', 'argument', 'of', 'the', 'learned', 'counsel', 'for', 'the', 'respondents', 'is', 'accepted', ',', 'it', 'would', 'mean', 'that', 'a', 'person', 'whose', 'bail', 'under', 'POTA', 'has', 'been', 'rejected', 'by', 'the', 'Special', 'Court', 'will', 'have', 'two', 'remedies', 'and', 'he', 'can', 'avail', 'any', 'one', 'of', 'them', 'at', 'his', 'sweet', 'will', '.']\n",
      "POTA U-STATUTE\n",
      "['True', ',', 'our', 'Constitution', 'has', 'no', \"'\", 'due', 'process', \"'\", 'clause', 'or', 'the', 'VIII', 'Amendment', ';', 'but', ',', 'in', 'this', 'branch', 'of', 'law', ',', 'after', 'R.C.', 'Cooper', 'v.', 'Union', 'of', 'India', ',', '(', '1970', ')', '1', 'SCC', '248', 'and', 'Maneka', 'Gandhi', 'v.', 'Union', 'of', 'India', ',', '(', '1978', ')', '1', 'SCC', '248', ',', 'the', 'consequence', 'is', 'the', 'same', '.']\n",
      "Constitution U-STATUTE\n",
      "R.C. B-PRECEDENT\n",
      "Cooper I-PRECEDENT\n",
      "v. I-PRECEDENT\n",
      "Union I-PRECEDENT\n",
      "of I-PRECEDENT\n",
      "India I-PRECEDENT\n",
      ", I-PRECEDENT\n",
      "( I-PRECEDENT\n",
      "1970 I-PRECEDENT\n",
      ") I-PRECEDENT\n",
      "1 I-PRECEDENT\n",
      "SCC I-PRECEDENT\n",
      "248 L-PRECEDENT\n",
      "Maneka B-PRECEDENT\n",
      "Gandhi I-PRECEDENT\n",
      "v. I-PRECEDENT\n",
      "Union I-PRECEDENT\n",
      "of I-PRECEDENT\n",
      "India I-PRECEDENT\n",
      ", I-PRECEDENT\n",
      "( I-PRECEDENT\n",
      "1978 I-PRECEDENT\n",
      ") I-PRECEDENT\n",
      "1 I-PRECEDENT\n",
      "SCC I-PRECEDENT\n",
      "248 L-PRECEDENT\n",
      "['(', 'See', 'Principles', 'of', 'Statutory', 'Interpretation', 'by', 'Justice', 'G.P.', 'Singh', ',', '9th', 'Edn', '.', ',', '2004', 'at', 'p.', '\\n\\n ', '438', '.', ')', '.']\n",
      "G.P. B-JUDGE\n",
      "Singh L-JUDGE\n",
      "['Their', 'Lordships', 'have', 'said', '--', ' ', '\"', 'It', 'is', 'a', 'sound', 'rule', 'of', 'construction', 'of', 'a', 'statute', 'firmly', 'established', 'in', 'England', 'as', 'far', 'back', 'as', '1584', 'when', 'Heydon', \"'s\", 'case', 'was', 'decided', 'that', '--', '\"', '......']\n",
      "England U-GPE\n",
      "Heydon U-OTHER_PERSON\n",
      "['In', 'para', '13', 'of', 'the', 'plaint', ',', 'it', 'has', 'been', 'further', 'averred', 'that', ',', '\"', 'When', 'the', 'plaintiffs', 'asked', 'the', 'defendant', 'to', 'obtain', 'requisite', 'documents', 'immediately', ',', 'the', 'defendant', 'assured', 'the', 'plaintiffs', 'that', 'he', 'would', 'obtain', 'the', 'requisite', 'documents', 'and', 'would', 'be', 'available', 'on', '29/12/2004', 'at', 'the', 'office', 'of', 'the', 'Sub\\xadRegistrar', ',', 'Geeta', 'Colony', ',', 'Delhi', 'and', 'would', 'execute', 'the', 'sale', 'deed', '\"', '.']\n",
      "29/12/2004 U-DATE\n",
      "Delhi U-GPE\n",
      "['Counsel', 'for', 'appellants', 'contended', 'that', 'who', 'is', 'the', 'Jagirdar', 'against', 'whom', 'the', 'legal', 'fiction', 'is', 'to', 'apply', ',', 'is', 'not', 'pleaded', 'by', 'the', 'claim', 'petitioners', 'and', 'the', 'scope', 'and', 'ambit', 'of', 'Rule', '2', 'of', 'the', 'Rules', 'regarding', \"'\", 'Grant', 'of', 'Pattadari', 'rights', 'in', 'non', '-', 'Khalsa', 'villages', \"'\", ',', '1356', 'Fasli', 'framed', 'under', 'Section', '172', 'of', 'the', 'Hyderabad', 'Land', 'Revenue', 'Act', ',', '1317', 'Fasli', 'is', 'nebulous', '.']\n",
      "Rule B-PROVISION\n",
      "2 L-PROVISION\n",
      "Section B-PROVISION\n",
      "172 L-PROVISION\n",
      "Hyderabad B-STATUTE\n",
      "Land I-STATUTE\n",
      "Revenue I-STATUTE\n",
      "Act I-STATUTE\n",
      ", I-STATUTE\n",
      "1317 L-STATUTE\n",
      "['Further', ',', 'section', '19(3', ')', 'of', 'the', 'SG', 'Act', 'specifies', 'that', 'unless', 'a', 'different', 'intention', 'appears', ',', 'rules', 'contained', 'in', 'section', '20', 'to', '24', 'rules', 'for', 'ascertaining', 'the', 'intention', 'of', 'the', 'parties', 'as', 'to', 'the', 'time', 'at', 'which', 'the', 'property', 'and', 'goods', 'is', 'to', 'passed', 'to', 'the', 'buyer', '.']\n",
      "section B-PROVISION\n",
      "19(3 I-PROVISION\n",
      ") L-PROVISION\n",
      "SG B-STATUTE\n",
      "Act L-STATUTE\n",
      "section B-PROVISION\n",
      "20 I-PROVISION\n",
      "to I-PROVISION\n",
      "24 L-PROVISION\n"
     ]
    }
   ],
   "source": [
    "# check whether the IOB Tokens match the actual text\n",
    "def filter_tokens(df: DataFrame, number_samples: int):\n",
    "    \"\"\"\n",
    "    Check some samples of the data to check whether the samples are matching with the biluo tags\n",
    "    :param df: dataframe containing data\n",
    "    :param number_samples: number of samples\n",
    "    :return: None\n",
    "    \"\"\"\n",
    "\n",
    "    for index, row in df.iterrows():\n",
    "        sentence = row[\"sentence\"]\n",
    "        iob = row[\"biluo\"]\n",
    "        print(sentence)\n",
    "\n",
    "        assert len(sentence) == len(iob)\n",
    "        for i, iob_token in enumerate(iob):\n",
    "            if iob_token != 'O':\n",
    "                word_token: str = sentence[i]\n",
    "                print(word_token, iob_token)\n",
    "\n",
    "        if index == number_samples:\n",
    "            break\n",
    "\n",
    "filter_tokens(train_data, 5)\n",
    "filter_tokens(dev_data, 5)"
   ],
   "metadata": {
    "collapsed": false,
    "pycharm": {
     "name": "#%%\n"
    }
   }
  },
  {
   "cell_type": "markdown",
   "source": [
    "# Convert biluo to IOB"
   ],
   "metadata": {
    "collapsed": false,
    "pycharm": {
     "name": "#%% md\n"
    }
   }
  },
  {
   "cell_type": "code",
   "execution_count": 13,
   "outputs": [],
   "source": [
    "def biluo_to_iob(tags):\n",
    "    \"\"\"\n",
    "    Reformat bilou tags to iob tags\n",
    "    :param tags:  a list of tags\n",
    "    :return: the list of iob tags\n",
    "    \"\"\"\n",
    "    iob_tags = []\n",
    "    for i, tag in enumerate(tags):\n",
    "        if tag == \"O\":\n",
    "            iob_tags.append(tag)\n",
    "        elif tag.startswith(\"B-\"):\n",
    "            iob_tags.append(\"B\" + tag[1:])\n",
    "        elif tag.startswith(\"I-\"):\n",
    "            iob_tags.append(tag)\n",
    "        elif tag.startswith(\"L-\"):\n",
    "            iob_tags.append(\"I\" + tag[1:])\n",
    "        elif tag.startswith(\"U-\"):\n",
    "            iob_tags.append(\"B\" + tag[1:])\n",
    "        else:\n",
    "            raise ValueError(\"Invalid tag: {}\".format(tag))\n",
    "    return iob_tags"
   ],
   "metadata": {
    "collapsed": false,
    "pycharm": {
     "name": "#%%\n"
    }
   }
  },
  {
   "cell_type": "code",
   "execution_count": 14,
   "outputs": [
    {
     "data": {
      "text/plain": "                                              string  \\\n0  \\n\\n(7) On specific query by the Bench about a...   \n1  He was also asked whether Agya <span class=\"hi...   \n2   \\n5.2 CW3 Mr Vijay Mishra , Deputy Manager, H...   \n3  You are hereby asked not to carry out any cons...   \n4  The pillion rider T.V. Satyanarayana Murthy al...   \n\n                                            entities  \\\n0                  [(90, 103, ORG), (267, 278, ORG)]   \n1  [(26, 30, OTHER_PERSON), (101, 105, OTHER_PERS...   \n2  [(13, 25, WITNESS), (44, 60, ORG), (62, 64, GP...   \n3                                                 []   \n4                           [(18, 43, OTHER_PERSON)]   \n\n                                            sentence  \\\n0  [\\n\\n, (, 7, ), On, specific, query, by, the, ...   \n1  [He, was, also, asked, whether, Agya, <, span,...   \n2  [ \\n, 5.2, CW3, Mr, Vijay, Mishra, ,, Deputy, ...   \n3  [You, are, hereby, asked, not, to, carry, out,...   \n4  [The, pillion, rider, T.V., Satyanarayana, Mur...   \n\n                                               biluo  \\\n0  [O, O, O, O, O, O, O, O, O, O, O, O, O, O, O, ...   \n1  [O, O, O, O, O, U-OTHER_PERSON, O, O, O, O, O,...   \n2  [O, O, O, O, B-WITNESS, L-WITNESS, O, O, O, O,...   \n3  [O, O, O, O, O, O, O, O, O, O, O, O, O, O, O, ...   \n4  [O, O, O, B-OTHER_PERSON, I-OTHER_PERSON, L-OT...   \n\n                                                 iob  \n0  [O, O, O, O, O, O, O, O, O, O, O, O, O, O, O, ...  \n1  [O, O, O, O, O, B-OTHER_PERSON, O, O, O, O, O,...  \n2  [O, O, O, O, B-WITNESS, I-WITNESS, O, O, O, O,...  \n3  [O, O, O, O, O, O, O, O, O, O, O, O, O, O, O, ...  \n4  [O, O, O, B-OTHER_PERSON, I-OTHER_PERSON, I-OT...  ",
      "text/html": "<div>\n<style scoped>\n    .dataframe tbody tr th:only-of-type {\n        vertical-align: middle;\n    }\n\n    .dataframe tbody tr th {\n        vertical-align: top;\n    }\n\n    .dataframe thead th {\n        text-align: right;\n    }\n</style>\n<table border=\"1\" class=\"dataframe\">\n  <thead>\n    <tr style=\"text-align: right;\">\n      <th></th>\n      <th>string</th>\n      <th>entities</th>\n      <th>sentence</th>\n      <th>biluo</th>\n      <th>iob</th>\n    </tr>\n  </thead>\n  <tbody>\n    <tr>\n      <th>0</th>\n      <td>\\n\\n(7) On specific query by the Bench about a...</td>\n      <td>[(90, 103, ORG), (267, 278, ORG)]</td>\n      <td>[\\n\\n, (, 7, ), On, specific, query, by, the, ...</td>\n      <td>[O, O, O, O, O, O, O, O, O, O, O, O, O, O, O, ...</td>\n      <td>[O, O, O, O, O, O, O, O, O, O, O, O, O, O, O, ...</td>\n    </tr>\n    <tr>\n      <th>1</th>\n      <td>He was also asked whether Agya &lt;span class=\"hi...</td>\n      <td>[(26, 30, OTHER_PERSON), (101, 105, OTHER_PERS...</td>\n      <td>[He, was, also, asked, whether, Agya, &lt;, span,...</td>\n      <td>[O, O, O, O, O, U-OTHER_PERSON, O, O, O, O, O,...</td>\n      <td>[O, O, O, O, O, B-OTHER_PERSON, O, O, O, O, O,...</td>\n    </tr>\n    <tr>\n      <th>2</th>\n      <td>\\n5.2 CW3 Mr Vijay Mishra , Deputy Manager, H...</td>\n      <td>[(13, 25, WITNESS), (44, 60, ORG), (62, 64, GP...</td>\n      <td>[ \\n, 5.2, CW3, Mr, Vijay, Mishra, ,, Deputy, ...</td>\n      <td>[O, O, O, O, B-WITNESS, L-WITNESS, O, O, O, O,...</td>\n      <td>[O, O, O, O, B-WITNESS, I-WITNESS, O, O, O, O,...</td>\n    </tr>\n    <tr>\n      <th>3</th>\n      <td>You are hereby asked not to carry out any cons...</td>\n      <td>[]</td>\n      <td>[You, are, hereby, asked, not, to, carry, out,...</td>\n      <td>[O, O, O, O, O, O, O, O, O, O, O, O, O, O, O, ...</td>\n      <td>[O, O, O, O, O, O, O, O, O, O, O, O, O, O, O, ...</td>\n    </tr>\n    <tr>\n      <th>4</th>\n      <td>The pillion rider T.V. Satyanarayana Murthy al...</td>\n      <td>[(18, 43, OTHER_PERSON)]</td>\n      <td>[The, pillion, rider, T.V., Satyanarayana, Mur...</td>\n      <td>[O, O, O, B-OTHER_PERSON, I-OTHER_PERSON, L-OT...</td>\n      <td>[O, O, O, B-OTHER_PERSON, I-OTHER_PERSON, I-OT...</td>\n    </tr>\n  </tbody>\n</table>\n</div>"
     },
     "execution_count": 14,
     "metadata": {},
     "output_type": "execute_result"
    }
   ],
   "source": [
    "train_data['iob'] = train_data['biluo'].apply(lambda x: biluo_to_iob(x))\n",
    "train_data.head()"
   ],
   "metadata": {
    "collapsed": false,
    "pycharm": {
     "name": "#%%\n"
    }
   }
  },
  {
   "cell_type": "code",
   "execution_count": 15,
   "outputs": [
    {
     "data": {
      "text/plain": "                                              string  \\\n0  True, our Constitution has no 'due process' cl...   \n1  (See Principles of Statutory Interpretation by...   \n2  Their Lordships have said --  \"It is a sound r...   \n3  In para 13 of the plaint, it has been further ...   \n4  Counsel for appellants contended that who is t...   \n\n                                            entities  \\\n0  [(10, 22, STATUTE), (108, 155, PRECEDENT), (16...   \n1                                  [(55, 65, JUDGE)]   \n2        [(101, 108, GPE), (134, 140, OTHER_PERSON)]   \n3                [(252, 262, DATE), (313, 318, GPE)]   \n4  [(169, 175, PROVISION), (275, 286, PROVISION),...   \n\n                                            sentence  \\\n0  [True, ,, our, Constitution, has, no, ', due, ...   \n1  [(, See, Principles, of, Statutory, Interpreta...   \n2  [Their, Lordships, have, said, --,  , \", It, i...   \n3  [In, para, 13, of, the, plaint, ,, it, has, be...   \n4  [Counsel, for, appellants, contended, that, wh...   \n\n                                               biluo  \\\n0  [O, O, O, U-STATUTE, O, O, O, O, O, O, O, O, O...   \n1  [O, O, O, O, O, O, O, O, B-JUDGE, L-JUDGE, O, ...   \n2  [O, O, O, O, O, O, O, O, O, O, O, O, O, O, O, ...   \n3  [O, O, O, O, O, O, O, O, O, O, O, O, O, O, O, ...   \n4  [O, O, O, O, O, O, O, O, O, O, O, O, O, O, O, ...   \n\n                                                 iob  \n0  [O, O, O, B-STATUTE, O, O, O, O, O, O, O, O, O...  \n1  [O, O, O, O, O, O, O, O, B-JUDGE, I-JUDGE, O, ...  \n2  [O, O, O, O, O, O, O, O, O, O, O, O, O, O, O, ...  \n3  [O, O, O, O, O, O, O, O, O, O, O, O, O, O, O, ...  \n4  [O, O, O, O, O, O, O, O, O, O, O, O, O, O, O, ...  ",
      "text/html": "<div>\n<style scoped>\n    .dataframe tbody tr th:only-of-type {\n        vertical-align: middle;\n    }\n\n    .dataframe tbody tr th {\n        vertical-align: top;\n    }\n\n    .dataframe thead th {\n        text-align: right;\n    }\n</style>\n<table border=\"1\" class=\"dataframe\">\n  <thead>\n    <tr style=\"text-align: right;\">\n      <th></th>\n      <th>string</th>\n      <th>entities</th>\n      <th>sentence</th>\n      <th>biluo</th>\n      <th>iob</th>\n    </tr>\n  </thead>\n  <tbody>\n    <tr>\n      <th>0</th>\n      <td>True, our Constitution has no 'due process' cl...</td>\n      <td>[(10, 22, STATUTE), (108, 155, PRECEDENT), (16...</td>\n      <td>[True, ,, our, Constitution, has, no, ', due, ...</td>\n      <td>[O, O, O, U-STATUTE, O, O, O, O, O, O, O, O, O...</td>\n      <td>[O, O, O, B-STATUTE, O, O, O, O, O, O, O, O, O...</td>\n    </tr>\n    <tr>\n      <th>1</th>\n      <td>(See Principles of Statutory Interpretation by...</td>\n      <td>[(55, 65, JUDGE)]</td>\n      <td>[(, See, Principles, of, Statutory, Interpreta...</td>\n      <td>[O, O, O, O, O, O, O, O, B-JUDGE, L-JUDGE, O, ...</td>\n      <td>[O, O, O, O, O, O, O, O, B-JUDGE, I-JUDGE, O, ...</td>\n    </tr>\n    <tr>\n      <th>2</th>\n      <td>Their Lordships have said --  \"It is a sound r...</td>\n      <td>[(101, 108, GPE), (134, 140, OTHER_PERSON)]</td>\n      <td>[Their, Lordships, have, said, --,  , \", It, i...</td>\n      <td>[O, O, O, O, O, O, O, O, O, O, O, O, O, O, O, ...</td>\n      <td>[O, O, O, O, O, O, O, O, O, O, O, O, O, O, O, ...</td>\n    </tr>\n    <tr>\n      <th>3</th>\n      <td>In para 13 of the plaint, it has been further ...</td>\n      <td>[(252, 262, DATE), (313, 318, GPE)]</td>\n      <td>[In, para, 13, of, the, plaint, ,, it, has, be...</td>\n      <td>[O, O, O, O, O, O, O, O, O, O, O, O, O, O, O, ...</td>\n      <td>[O, O, O, O, O, O, O, O, O, O, O, O, O, O, O, ...</td>\n    </tr>\n    <tr>\n      <th>4</th>\n      <td>Counsel for appellants contended that who is t...</td>\n      <td>[(169, 175, PROVISION), (275, 286, PROVISION),...</td>\n      <td>[Counsel, for, appellants, contended, that, wh...</td>\n      <td>[O, O, O, O, O, O, O, O, O, O, O, O, O, O, O, ...</td>\n      <td>[O, O, O, O, O, O, O, O, O, O, O, O, O, O, O, ...</td>\n    </tr>\n  </tbody>\n</table>\n</div>"
     },
     "execution_count": 15,
     "metadata": {},
     "output_type": "execute_result"
    }
   ],
   "source": [
    "dev_data['iob'] = dev_data['biluo'].apply(lambda x: biluo_to_iob(x))\n",
    "dev_data.head()"
   ],
   "metadata": {
    "collapsed": false,
    "pycharm": {
     "name": "#%%\n"
    }
   }
  },
  {
   "cell_type": "markdown",
   "source": [
    "## Save data to CSV file"
   ],
   "metadata": {
    "collapsed": false,
    "pycharm": {
     "name": "#%% md\n"
    }
   }
  },
  {
   "cell_type": "code",
   "execution_count": 16,
   "outputs": [
    {
     "data": {
      "text/plain": "                                            sentence  \\\n0  \\n\\n(7) On specific query by the Bench about a...   \n1  He was also asked whether Agya <span class=\"hi...   \n2   \\n5.2 CW3 Mr Vijay Mishra , Deputy Manager, H...   \n3  You are hereby asked not to carry out any cons...   \n4  The pillion rider T.V. Satyanarayana Murthy al...   \n\n                                               words  \\\n0  [\\n\\n, (, 7, ), On, specific, query, by, the, ...   \n1  [He, was, also, asked, whether, Agya, <, span,...   \n2  [ \\n, 5.2, CW3, Mr, Vijay, Mishra, ,, Deputy, ...   \n3  [You, are, hereby, asked, not, to, carry, out,...   \n4  [The, pillion, rider, T.V., Satyanarayana, Mur...   \n\n                                                 iob  \n0  [O, O, O, O, O, O, O, O, O, O, O, O, O, O, O, ...  \n1  [O, O, O, O, O, B-OTHER_PERSON, O, O, O, O, O,...  \n2  [O, O, O, O, B-WITNESS, I-WITNESS, O, O, O, O,...  \n3  [O, O, O, O, O, O, O, O, O, O, O, O, O, O, O, ...  \n4  [O, O, O, B-OTHER_PERSON, I-OTHER_PERSON, I-OT...  ",
      "text/html": "<div>\n<style scoped>\n    .dataframe tbody tr th:only-of-type {\n        vertical-align: middle;\n    }\n\n    .dataframe tbody tr th {\n        vertical-align: top;\n    }\n\n    .dataframe thead th {\n        text-align: right;\n    }\n</style>\n<table border=\"1\" class=\"dataframe\">\n  <thead>\n    <tr style=\"text-align: right;\">\n      <th></th>\n      <th>sentence</th>\n      <th>words</th>\n      <th>iob</th>\n    </tr>\n  </thead>\n  <tbody>\n    <tr>\n      <th>0</th>\n      <td>\\n\\n(7) On specific query by the Bench about a...</td>\n      <td>[\\n\\n, (, 7, ), On, specific, query, by, the, ...</td>\n      <td>[O, O, O, O, O, O, O, O, O, O, O, O, O, O, O, ...</td>\n    </tr>\n    <tr>\n      <th>1</th>\n      <td>He was also asked whether Agya &lt;span class=\"hi...</td>\n      <td>[He, was, also, asked, whether, Agya, &lt;, span,...</td>\n      <td>[O, O, O, O, O, B-OTHER_PERSON, O, O, O, O, O,...</td>\n    </tr>\n    <tr>\n      <th>2</th>\n      <td>\\n5.2 CW3 Mr Vijay Mishra , Deputy Manager, H...</td>\n      <td>[ \\n, 5.2, CW3, Mr, Vijay, Mishra, ,, Deputy, ...</td>\n      <td>[O, O, O, O, B-WITNESS, I-WITNESS, O, O, O, O,...</td>\n    </tr>\n    <tr>\n      <th>3</th>\n      <td>You are hereby asked not to carry out any cons...</td>\n      <td>[You, are, hereby, asked, not, to, carry, out,...</td>\n      <td>[O, O, O, O, O, O, O, O, O, O, O, O, O, O, O, ...</td>\n    </tr>\n    <tr>\n      <th>4</th>\n      <td>The pillion rider T.V. Satyanarayana Murthy al...</td>\n      <td>[The, pillion, rider, T.V., Satyanarayana, Mur...</td>\n      <td>[O, O, O, B-OTHER_PERSON, I-OTHER_PERSON, I-OT...</td>\n    </tr>\n  </tbody>\n</table>\n</div>"
     },
     "execution_count": 16,
     "metadata": {},
     "output_type": "execute_result"
    }
   ],
   "source": [
    "to_drop = [\"entities\", \"biluo\"]\n",
    "train_data.drop(to_drop, inplace=True, axis=1)\n",
    "train_data.rename({\"string\": \"sentence\", \"sentence\": \"words\"}, axis=1, inplace=True)\n",
    "train_data.head()"
   ],
   "metadata": {
    "collapsed": false,
    "pycharm": {
     "name": "#%%\n"
    }
   }
  },
  {
   "cell_type": "markdown",
   "source": [
    "### make train test split"
   ],
   "metadata": {
    "collapsed": false,
    "pycharm": {
     "name": "#%% md\n"
    }
   }
  },
  {
   "cell_type": "code",
   "execution_count": 17,
   "outputs": [
    {
     "name": "stdout",
     "output_type": "stream",
     "text": [
      "8796\n",
      "2199\n"
     ]
    }
   ],
   "source": [
    "train: DataFrame = train_data.sample(frac=0.8,random_state=3771)\n",
    "test: DataFrame = train_data.drop(train.index)\n",
    "\n",
    "print(len(train))\n",
    "print(len(test))"
   ],
   "metadata": {
    "collapsed": false,
    "pycharm": {
     "name": "#%%\n"
    }
   }
  },
  {
   "cell_type": "code",
   "execution_count": 18,
   "outputs": [],
   "source": [
    "save_path_train = \"../data/train_data_iob.csv\"\n",
    "save_path_test = \"../data/test_data_iob.csv\"\n",
    "train.to_csv(save_path_train)\n",
    "test.to_csv(save_path_test)"
   ],
   "metadata": {
    "collapsed": false,
    "pycharm": {
     "name": "#%%\n"
    }
   }
  },
  {
   "cell_type": "code",
   "execution_count": 19,
   "outputs": [
    {
     "data": {
      "text/plain": "                                            sentence  \\\n0  True, our Constitution has no 'due process' cl...   \n1  (See Principles of Statutory Interpretation by...   \n2  Their Lordships have said --  \"It is a sound r...   \n3  In para 13 of the plaint, it has been further ...   \n4  Counsel for appellants contended that who is t...   \n\n                                               words  \\\n0  [True, ,, our, Constitution, has, no, ', due, ...   \n1  [(, See, Principles, of, Statutory, Interpreta...   \n2  [Their, Lordships, have, said, --,  , \", It, i...   \n3  [In, para, 13, of, the, plaint, ,, it, has, be...   \n4  [Counsel, for, appellants, contended, that, wh...   \n\n                                                 iob  \n0  [O, O, O, B-STATUTE, O, O, O, O, O, O, O, O, O...  \n1  [O, O, O, O, O, O, O, O, B-JUDGE, I-JUDGE, O, ...  \n2  [O, O, O, O, O, O, O, O, O, O, O, O, O, O, O, ...  \n3  [O, O, O, O, O, O, O, O, O, O, O, O, O, O, O, ...  \n4  [O, O, O, O, O, O, O, O, O, O, O, O, O, O, O, ...  ",
      "text/html": "<div>\n<style scoped>\n    .dataframe tbody tr th:only-of-type {\n        vertical-align: middle;\n    }\n\n    .dataframe tbody tr th {\n        vertical-align: top;\n    }\n\n    .dataframe thead th {\n        text-align: right;\n    }\n</style>\n<table border=\"1\" class=\"dataframe\">\n  <thead>\n    <tr style=\"text-align: right;\">\n      <th></th>\n      <th>sentence</th>\n      <th>words</th>\n      <th>iob</th>\n    </tr>\n  </thead>\n  <tbody>\n    <tr>\n      <th>0</th>\n      <td>True, our Constitution has no 'due process' cl...</td>\n      <td>[True, ,, our, Constitution, has, no, ', due, ...</td>\n      <td>[O, O, O, B-STATUTE, O, O, O, O, O, O, O, O, O...</td>\n    </tr>\n    <tr>\n      <th>1</th>\n      <td>(See Principles of Statutory Interpretation by...</td>\n      <td>[(, See, Principles, of, Statutory, Interpreta...</td>\n      <td>[O, O, O, O, O, O, O, O, B-JUDGE, I-JUDGE, O, ...</td>\n    </tr>\n    <tr>\n      <th>2</th>\n      <td>Their Lordships have said --  \"It is a sound r...</td>\n      <td>[Their, Lordships, have, said, --,  , \", It, i...</td>\n      <td>[O, O, O, O, O, O, O, O, O, O, O, O, O, O, O, ...</td>\n    </tr>\n    <tr>\n      <th>3</th>\n      <td>In para 13 of the plaint, it has been further ...</td>\n      <td>[In, para, 13, of, the, plaint, ,, it, has, be...</td>\n      <td>[O, O, O, O, O, O, O, O, O, O, O, O, O, O, O, ...</td>\n    </tr>\n    <tr>\n      <th>4</th>\n      <td>Counsel for appellants contended that who is t...</td>\n      <td>[Counsel, for, appellants, contended, that, wh...</td>\n      <td>[O, O, O, O, O, O, O, O, O, O, O, O, O, O, O, ...</td>\n    </tr>\n  </tbody>\n</table>\n</div>"
     },
     "execution_count": 19,
     "metadata": {},
     "output_type": "execute_result"
    }
   ],
   "source": [
    "to_drop = [\"entities\", \"biluo\"]\n",
    "dev_data.drop(to_drop, inplace=True, axis=1)\n",
    "dev_data.rename({\"string\": \"sentence\", \"sentence\": \"words\"}, axis=1, inplace=True)\n",
    "dev_data.head()"
   ],
   "metadata": {
    "collapsed": false,
    "pycharm": {
     "name": "#%%\n"
    }
   }
  },
  {
   "cell_type": "code",
   "execution_count": 20,
   "outputs": [],
   "source": [
    "save_path = \"../data/dev_data_iob.csv\"\n",
    "dev_data.to_csv(save_path)"
   ],
   "metadata": {
    "collapsed": false,
    "pycharm": {
     "name": "#%%\n"
    }
   }
  },
  {
   "cell_type": "code",
   "execution_count": 21,
   "outputs": [
    {
     "data": {
      "text/plain": "                                            sentence  \\\n0  True, our Constitution has no 'due process' cl...   \n1  (See Principles of Statutory Interpretation by...   \n2  Their Lordships have said --  \"It is a sound r...   \n3  In para 13 of the plaint, it has been further ...   \n4  Counsel for appellants contended that who is t...   \n\n                                               words  \\\n0  ['True', ',', 'our', 'Constitution', 'has', 'n...   \n1  ['(', 'See', 'Principles', 'of', 'Statutory', ...   \n2  ['Their', 'Lordships', 'have', 'said', '--', '...   \n3  ['In', 'para', '13', 'of', 'the', 'plaint', ',...   \n4  ['Counsel', 'for', 'appellants', 'contended', ...   \n\n                                                 iob  \n0  [O, O, O, B-STATUTE, O, O, O, O, O, O, O, O, O...  \n1  [O, O, O, O, O, O, O, O, B-JUDGE, I-JUDGE, O, ...  \n2  [O, O, O, O, O, O, O, O, O, O, O, O, O, O, O, ...  \n3  [O, O, O, O, O, O, O, O, O, O, O, O, O, O, O, ...  \n4  [O, O, O, O, O, O, O, O, O, O, O, O, O, O, O, ...  ",
      "text/html": "<div>\n<style scoped>\n    .dataframe tbody tr th:only-of-type {\n        vertical-align: middle;\n    }\n\n    .dataframe tbody tr th {\n        vertical-align: top;\n    }\n\n    .dataframe thead th {\n        text-align: right;\n    }\n</style>\n<table border=\"1\" class=\"dataframe\">\n  <thead>\n    <tr style=\"text-align: right;\">\n      <th></th>\n      <th>sentence</th>\n      <th>words</th>\n      <th>iob</th>\n    </tr>\n  </thead>\n  <tbody>\n    <tr>\n      <th>0</th>\n      <td>True, our Constitution has no 'due process' cl...</td>\n      <td>['True', ',', 'our', 'Constitution', 'has', 'n...</td>\n      <td>[O, O, O, B-STATUTE, O, O, O, O, O, O, O, O, O...</td>\n    </tr>\n    <tr>\n      <th>1</th>\n      <td>(See Principles of Statutory Interpretation by...</td>\n      <td>['(', 'See', 'Principles', 'of', 'Statutory', ...</td>\n      <td>[O, O, O, O, O, O, O, O, B-JUDGE, I-JUDGE, O, ...</td>\n    </tr>\n    <tr>\n      <th>2</th>\n      <td>Their Lordships have said --  \"It is a sound r...</td>\n      <td>['Their', 'Lordships', 'have', 'said', '--', '...</td>\n      <td>[O, O, O, O, O, O, O, O, O, O, O, O, O, O, O, ...</td>\n    </tr>\n    <tr>\n      <th>3</th>\n      <td>In para 13 of the plaint, it has been further ...</td>\n      <td>['In', 'para', '13', 'of', 'the', 'plaint', ',...</td>\n      <td>[O, O, O, O, O, O, O, O, O, O, O, O, O, O, O, ...</td>\n    </tr>\n    <tr>\n      <th>4</th>\n      <td>Counsel for appellants contended that who is t...</td>\n      <td>['Counsel', 'for', 'appellants', 'contended', ...</td>\n      <td>[O, O, O, O, O, O, O, O, O, O, O, O, O, O, O, ...</td>\n    </tr>\n  </tbody>\n</table>\n</div>"
     },
     "execution_count": 21,
     "metadata": {},
     "output_type": "execute_result"
    }
   ],
   "source": [
    "data = pd.read_csv(save_path, index_col=0)\n",
    "data[\"iob\"] = data[\"iob\"].map(lambda x: eval(x))\n",
    "data.head()"
   ],
   "metadata": {
    "collapsed": false,
    "pycharm": {
     "name": "#%%\n"
    }
   }
  },
  {
   "cell_type": "code",
   "execution_count": 21,
   "outputs": [],
   "source": [],
   "metadata": {
    "collapsed": false,
    "pycharm": {
     "name": "#%%\n"
    }
   }
  },
  {
   "cell_type": "code",
   "execution_count": 22,
   "outputs": [
    {
     "data": {
      "text/plain": "8796"
     },
     "execution_count": 22,
     "metadata": {},
     "output_type": "execute_result"
    }
   ],
   "source": [
    "len(train)"
   ],
   "metadata": {
    "collapsed": false,
    "pycharm": {
     "name": "#%%\n"
    }
   }
  },
  {
   "cell_type": "code",
   "execution_count": 23,
   "outputs": [
    {
     "data": {
      "text/plain": "2199"
     },
     "execution_count": 23,
     "metadata": {},
     "output_type": "execute_result"
    }
   ],
   "source": [
    "len(test)"
   ],
   "metadata": {
    "collapsed": false,
    "pycharm": {
     "name": "#%%\n"
    }
   }
  },
  {
   "cell_type": "code",
   "execution_count": 23,
   "outputs": [],
   "source": [],
   "metadata": {
    "collapsed": false,
    "pycharm": {
     "name": "#%%\n"
    }
   }
  }
 ],
 "metadata": {
  "kernelspec": {
   "display_name": "Python 3",
   "language": "python",
   "name": "python3"
  },
  "language_info": {
   "codemirror_mode": {
    "name": "ipython",
    "version": 2
   },
   "file_extension": ".py",
   "mimetype": "text/x-python",
   "name": "python",
   "nbconvert_exporter": "python",
   "pygments_lexer": "ipython2",
   "version": "2.7.6"
  }
 },
 "nbformat": 4,
 "nbformat_minor": 0
}