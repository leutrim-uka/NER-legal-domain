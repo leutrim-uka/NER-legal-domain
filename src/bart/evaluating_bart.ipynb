{
 "cells": [
  {
   "cell_type": "markdown",
   "source": [
    "# Evaluation of the final BART model"
   ],
   "metadata": {
    "collapsed": false,
    "pycharm": {
     "name": "#%% md\n"
    }
   }
  },
  {
   "cell_type": "code",
   "execution_count": 4,
   "outputs": [],
   "source": [
    "from typing import List\n",
    "from src.bart.BartModel import BartCustomModel\n",
    "from seqeval.metrics import classification_report\n",
    "from src.util.utils import load_bart_data,transform_to_iob\n",
    "from pandas import DataFrame\n",
    "\n",
    "path_bart: str = \"../Saved_Models/BART\"\n",
    "path_train: str = \"../../data/bart_train_data_single.csv\"\n",
    "path_validation: str = \"../../data/bart_dev_data_single.csv\"\n",
    "path_test: str = \"../../data/bart_test_data.csv\""
   ],
   "metadata": {
    "collapsed": false,
    "pycharm": {
     "name": "#%%\n"
    }
   }
  },
  {
   "cell_type": "markdown",
   "source": [
    "### Load the Data"
   ],
   "metadata": {
    "collapsed": false,
    "pycharm": {
     "name": "#%% md\n"
    }
   }
  },
  {
   "cell_type": "code",
   "execution_count": 5,
   "outputs": [],
   "source": [
    "_, _, bart_test = load_bart_data(path_train, path_validation, path_test)"
   ],
   "metadata": {
    "collapsed": false,
    "pycharm": {
     "name": "#%%\n"
    }
   }
  },
  {
   "cell_type": "code",
   "execution_count": 14,
   "outputs": [
    {
     "data": {
      "text/plain": "                                          input_text  \\\n0  True, our Constitution has no 'due process' cl...   \n1  (See Principles of Statutory Interpretation by...   \n2  Their Lordships have said -- \"It is a sound ru...   \n3  In para 13 of the plaint, it has been further ...   \n4  Counsel for appellants contended that who is t...   \n\n                                            entities  \\\n0  [Constitution, R.C. Cooper v. Union of India, ...   \n1                                       [G.P. Singh]   \n2                                  [England, Heydon]   \n3                                [29/12/2004, Delhi]   \n4  [Rule 2, Section 172, Hyderabad Land Revenue A...   \n\n                      entity names  \n0  [statute, precedent, precedent]  \n1                          [judge]  \n2               [location, person]  \n3                 [date, location]  \n4  [provision, provision, statute]  ",
      "text/html": "<div>\n<style scoped>\n    .dataframe tbody tr th:only-of-type {\n        vertical-align: middle;\n    }\n\n    .dataframe tbody tr th {\n        vertical-align: top;\n    }\n\n    .dataframe thead th {\n        text-align: right;\n    }\n</style>\n<table border=\"1\" class=\"dataframe\">\n  <thead>\n    <tr style=\"text-align: right;\">\n      <th></th>\n      <th>input_text</th>\n      <th>entities</th>\n      <th>entity names</th>\n    </tr>\n  </thead>\n  <tbody>\n    <tr>\n      <th>0</th>\n      <td>True, our Constitution has no 'due process' cl...</td>\n      <td>[Constitution, R.C. Cooper v. Union of India, ...</td>\n      <td>[statute, precedent, precedent]</td>\n    </tr>\n    <tr>\n      <th>1</th>\n      <td>(See Principles of Statutory Interpretation by...</td>\n      <td>[G.P. Singh]</td>\n      <td>[judge]</td>\n    </tr>\n    <tr>\n      <th>2</th>\n      <td>Their Lordships have said -- \"It is a sound ru...</td>\n      <td>[England, Heydon]</td>\n      <td>[location, person]</td>\n    </tr>\n    <tr>\n      <th>3</th>\n      <td>In para 13 of the plaint, it has been further ...</td>\n      <td>[29/12/2004, Delhi]</td>\n      <td>[date, location]</td>\n    </tr>\n    <tr>\n      <th>4</th>\n      <td>Counsel for appellants contended that who is t...</td>\n      <td>[Rule 2, Section 172, Hyderabad Land Revenue A...</td>\n      <td>[provision, provision, statute]</td>\n    </tr>\n  </tbody>\n</table>\n</div>"
     },
     "execution_count": 14,
     "metadata": {},
     "output_type": "execute_result"
    }
   ],
   "source": [
    "bart_test.head()"
   ],
   "metadata": {
    "collapsed": false,
    "pycharm": {
     "name": "#%%\n"
    }
   }
  },
  {
   "cell_type": "code",
   "execution_count": 15,
   "outputs": [
    {
     "data": {
      "text/plain": "['statute',\n 'precedent',\n 'judge',\n 'location',\n 'person',\n 'date',\n 'provision',\n 'case number',\n 'curt',\n 'no entities found',\n 'organization',\n 'petitioner',\n 'witness',\n 'respondent',\n 'lawyer']"
     },
     "execution_count": 15,
     "metadata": {},
     "output_type": "execute_result"
    }
   ],
   "source": [
    "# get info about the amount of classes and class labels\n",
    "bart_unique_classes: List = bart_test[\"entity names\"].explode().unique().tolist()\n",
    "bart_unique_classes"
   ],
   "metadata": {
    "collapsed": false,
    "pycharm": {
     "name": "#%%\n"
    }
   }
  },
  {
   "cell_type": "code",
   "execution_count": 16,
   "outputs": [],
   "source": [
    "bart_model: BartCustomModel = BartCustomModel(model_path=path_bart, all_classes=bart_unique_classes)"
   ],
   "metadata": {
    "collapsed": false,
    "pycharm": {
     "name": "#%%\n"
    }
   }
  },
  {
   "cell_type": "code",
   "execution_count": 17,
   "outputs": [
    {
     "data": {
      "text/plain": "Prediction:   0%|          | 0/1074 [00:00<?, ?it/s]",
      "application/vnd.jupyter.widget-view+json": {
       "version_major": 2,
       "version_minor": 0,
       "model_id": "5c0e2e287c04479ca19f5e7c2ba846fd"
      }
     },
     "metadata": {},
     "output_type": "display_data"
    }
   ],
   "source": [
    "unwrapped_predictions = []\n",
    "predictions, classes = bart_model.predict_single(texts=bart_test[\"input_text\"])\n",
    "\n",
    "for prediction in predictions:\n",
    "    unwrapped_predictions.append([\" \".join(p) for p in prediction])"
   ],
   "metadata": {
    "collapsed": false,
    "pycharm": {
     "name": "#%%\n"
    }
   }
  },
  {
   "cell_type": "markdown",
   "source": [
    "# Transform the predictions to BIO format to run evaluation"
   ],
   "metadata": {
    "collapsed": false,
    "pycharm": {
     "name": "#%% md\n"
    }
   }
  },
  {
   "cell_type": "code",
   "execution_count": 20,
   "outputs": [],
   "source": [
    "bart_iob_gold_entities, gold_texts = transform_to_iob(\n",
    "    texts=bart_test[\"input_text\"].to_list(),\n",
    "    entities=bart_test[\"entities\"].to_list(),\n",
    "    names=bart_test[\"entity names\"].to_list(),\n",
    ")"
   ],
   "metadata": {
    "collapsed": false,
    "pycharm": {
     "name": "#%%\n"
    }
   }
  },
  {
   "cell_type": "code",
   "execution_count": 21,
   "outputs": [],
   "source": [
    "bart_prediction_iob, prediction_texts = transform_to_iob(\n",
    "    texts=bart_test[\"input_text\"].to_list(),\n",
    "    entities=unwrapped_predictions,\n",
    "    names=classes\n",
    ")"
   ],
   "metadata": {
    "collapsed": false,
    "pycharm": {
     "name": "#%%\n"
    }
   }
  },
  {
   "cell_type": "markdown",
   "source": [
    "# Run Evaluation"
   ],
   "metadata": {
    "collapsed": false,
    "pycharm": {
     "name": "#%% md\n"
    }
   }
  },
  {
   "cell_type": "code",
   "execution_count": 23,
   "outputs": [
    {
     "data": {
      "text/plain": "           CASENUMBER        CURT        DATE       JUDGE      LAWYER  \\\nprecision    0.604938    0.827586    0.861925    0.916667    0.910448   \nrecall       0.837607    0.830450    0.953704    0.661654    0.405765   \nf1-score     0.702509    0.829016    0.905495    0.768559    0.561350   \nsupport    117.000000  289.000000  216.000000  133.000000  451.000000   \n\n             LOCATION  ORGANIZATION      PERSON  PETITIONER   PRECEDENT  \\\nprecision    0.578035      0.470588    0.837638    0.758621    0.578378   \nrecall       0.724638      0.693333    0.897233    0.717391    0.629412   \nf1-score     0.643087      0.560647    0.866412    0.737430    0.602817   \nsupport    138.000000    150.000000  253.000000  184.000000  170.000000   \n\n            PROVISION  RESPONDENT     STATUTE    WITNESS    micro avg  \\\nprecision    0.824138    0.701863    0.755020   0.919355     0.750541   \nrecall       0.952191    0.457490    0.917073   0.982759     0.727463   \nf1-score     0.883549    0.553922    0.828194   0.950000     0.738822   \nsupport    251.000000  247.000000  205.000000  58.000000  2862.000000   \n\n             macro avg  weighted avg  \nprecision     0.753229      0.774691  \nrecall        0.761479      0.727463  \nf1-score      0.742356      0.729012  \nsupport    2862.000000   2862.000000  ",
      "text/html": "<div>\n<style scoped>\n    .dataframe tbody tr th:only-of-type {\n        vertical-align: middle;\n    }\n\n    .dataframe tbody tr th {\n        vertical-align: top;\n    }\n\n    .dataframe thead th {\n        text-align: right;\n    }\n</style>\n<table border=\"1\" class=\"dataframe\">\n  <thead>\n    <tr style=\"text-align: right;\">\n      <th></th>\n      <th>CASENUMBER</th>\n      <th>CURT</th>\n      <th>DATE</th>\n      <th>JUDGE</th>\n      <th>LAWYER</th>\n      <th>LOCATION</th>\n      <th>ORGANIZATION</th>\n      <th>PERSON</th>\n      <th>PETITIONER</th>\n      <th>PRECEDENT</th>\n      <th>PROVISION</th>\n      <th>RESPONDENT</th>\n      <th>STATUTE</th>\n      <th>WITNESS</th>\n      <th>micro avg</th>\n      <th>macro avg</th>\n      <th>weighted avg</th>\n    </tr>\n  </thead>\n  <tbody>\n    <tr>\n      <th>precision</th>\n      <td>0.604938</td>\n      <td>0.827586</td>\n      <td>0.861925</td>\n      <td>0.916667</td>\n      <td>0.910448</td>\n      <td>0.578035</td>\n      <td>0.470588</td>\n      <td>0.837638</td>\n      <td>0.758621</td>\n      <td>0.578378</td>\n      <td>0.824138</td>\n      <td>0.701863</td>\n      <td>0.755020</td>\n      <td>0.919355</td>\n      <td>0.750541</td>\n      <td>0.753229</td>\n      <td>0.774691</td>\n    </tr>\n    <tr>\n      <th>recall</th>\n      <td>0.837607</td>\n      <td>0.830450</td>\n      <td>0.953704</td>\n      <td>0.661654</td>\n      <td>0.405765</td>\n      <td>0.724638</td>\n      <td>0.693333</td>\n      <td>0.897233</td>\n      <td>0.717391</td>\n      <td>0.629412</td>\n      <td>0.952191</td>\n      <td>0.457490</td>\n      <td>0.917073</td>\n      <td>0.982759</td>\n      <td>0.727463</td>\n      <td>0.761479</td>\n      <td>0.727463</td>\n    </tr>\n    <tr>\n      <th>f1-score</th>\n      <td>0.702509</td>\n      <td>0.829016</td>\n      <td>0.905495</td>\n      <td>0.768559</td>\n      <td>0.561350</td>\n      <td>0.643087</td>\n      <td>0.560647</td>\n      <td>0.866412</td>\n      <td>0.737430</td>\n      <td>0.602817</td>\n      <td>0.883549</td>\n      <td>0.553922</td>\n      <td>0.828194</td>\n      <td>0.950000</td>\n      <td>0.738822</td>\n      <td>0.742356</td>\n      <td>0.729012</td>\n    </tr>\n    <tr>\n      <th>support</th>\n      <td>117.000000</td>\n      <td>289.000000</td>\n      <td>216.000000</td>\n      <td>133.000000</td>\n      <td>451.000000</td>\n      <td>138.000000</td>\n      <td>150.000000</td>\n      <td>253.000000</td>\n      <td>184.000000</td>\n      <td>170.000000</td>\n      <td>251.000000</td>\n      <td>247.000000</td>\n      <td>205.000000</td>\n      <td>58.000000</td>\n      <td>2862.000000</td>\n      <td>2862.000000</td>\n      <td>2862.000000</td>\n    </tr>\n  </tbody>\n</table>\n</div>"
     },
     "execution_count": 23,
     "metadata": {},
     "output_type": "execute_result"
    }
   ],
   "source": [
    "result = classification_report(bart_iob_gold_entities, bart_prediction_iob, output_dict=True)\n",
    "d = DataFrame.from_dict(result)\n",
    "d.head(10)"
   ],
   "metadata": {
    "collapsed": false,
    "pycharm": {
     "name": "#%%\n"
    }
   }
  }
 ],
 "metadata": {
  "kernelspec": {
   "display_name": "Python 3",
   "language": "python",
   "name": "python3"
  },
  "language_info": {
   "codemirror_mode": {
    "name": "ipython",
    "version": 2
   },
   "file_extension": ".py",
   "mimetype": "text/x-python",
   "name": "python",
   "nbconvert_exporter": "python",
   "pygments_lexer": "ipython2",
   "version": "2.7.6"
  }
 },
 "nbformat": 4,
 "nbformat_minor": 0
}