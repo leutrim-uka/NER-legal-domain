{
 "cells": [
  {
   "cell_type": "markdown",
   "source": [
    "# Train BartCustomModel and save it to File"
   ],
   "metadata": {
    "collapsed": false
   }
  },
  {
   "cell_type": "code",
   "execution_count": 3,
   "outputs": [],
   "source": [
    "from typing import List\n",
    "from src.util.utils import load_bart_data\n",
    "from src.bart.BartModel import BartCustomModel"
   ],
   "metadata": {
    "collapsed": false
   }
  },
  {
   "cell_type": "code",
   "execution_count": 4,
   "outputs": [],
   "source": [
    "path_train = \"../../data/bart_train_data_single.csv\"\n",
    "path_dev = \"../../data/bart_dev_data_single.csv\"\n",
    "path_test = \"../../data/bart_test_data.csv\"\n",
    "save_path: str = r\"../../saved_models/BART\"\n",
    "model_path: str = \"facebook/bart-base\""
   ],
   "metadata": {
    "collapsed": false
   }
  },
  {
   "cell_type": "markdown",
   "source": [
    "# Load Data"
   ],
   "metadata": {
    "collapsed": false
   }
  },
  {
   "cell_type": "code",
   "execution_count": 5,
   "outputs": [
    {
     "data": {
      "text/plain": "['statute',\n 'precedent',\n 'judge',\n 'location',\n 'person',\n 'date',\n 'provision',\n 'case number',\n 'curt',\n 'no entities found',\n 'organization',\n 'petitioner',\n 'witness',\n 'respondent',\n 'lawyer']"
     },
     "execution_count": 5,
     "metadata": {},
     "output_type": "execute_result"
    }
   ],
   "source": [
    "train_df, eval_df, test_df = load_bart_data(p_train=path_train, p_validation=path_dev, p_test=path_test)\n",
    "bart_unique_classes: List = test_df[\"entity names\"].explode().unique().tolist()\n",
    "bart_unique_classes"
   ],
   "metadata": {
    "collapsed": false
   }
  },
  {
   "cell_type": "markdown",
   "source": [
    "# Load initialize and train the model"
   ],
   "metadata": {
    "collapsed": false
   }
  },
  {
   "cell_type": "code",
   "execution_count": 6,
   "outputs": [
    {
     "data": {
      "text/plain": "  0%|          | 0/32143 [00:00<?, ?it/s]",
      "application/vnd.jupyter.widget-view+json": {
       "version_major": 2,
       "version_minor": 0,
       "model_id": "e66406bbd09d4f1b9505e35ae8b6fe6a"
      }
     },
     "metadata": {},
     "output_type": "display_data"
    },
    {
     "name": "stdout",
     "output_type": "stream",
     "text": [
      "Validation Loss: 0.5358336261056188\n"
     ]
    },
    {
     "data": {
      "text/plain": "(1608, 0.643863551397414)"
     },
     "execution_count": 6,
     "metadata": {},
     "output_type": "execute_result"
    }
   ],
   "source": [
    "model = BartCustomModel(model_path=model_path, all_classes=bart_unique_classes)\n",
    "model.custom_train(train_df, eval_df)"
   ],
   "metadata": {
    "collapsed": false
   }
  },
  {
   "cell_type": "markdown",
   "source": [
    "# Save the model and Tokenizer"
   ],
   "metadata": {
    "collapsed": false
   }
  },
  {
   "cell_type": "code",
   "execution_count": null,
   "outputs": [],
   "source": [
    "model.model.save_pretrained(save_path, from_pt=True, push_to_hub=False)\n",
    "model.tokenizer.save_pretrained(save_path, from_pt=True, push_to_hub=False)"
   ],
   "metadata": {
    "collapsed": false,
    "pycharm": {
     "is_executing": true
    }
   }
  },
  {
   "cell_type": "markdown",
   "source": [
    "# Load the model and test it"
   ],
   "metadata": {
    "collapsed": false
   }
  },
  {
   "cell_type": "code",
   "execution_count": 5,
   "outputs": [],
   "source": [
    "saved_model = BartCustomModel(model_path=save_path, all_classes=bart_unique_classes)"
   ],
   "metadata": {
    "collapsed": false
   }
  },
  {
   "cell_type": "code",
   "execution_count": 5,
   "outputs": [],
   "source": [
    "test_sentece = [\"Under the said notifications, the BDA proposed to acquire 3839 acres & 12 guntas of land situate in 16 villages namely Dasarahalli, Byrathikhane, Chellakere, Geddalahalli, K.Narayanapura, Rachenahalli, thanisandra, Amaruthahalli, Jakkur, Kempapura, Sampigehalli, Srirampura, Venkateshapura, Hennur, Hebbala and Nagavara, for the formation of Arkavathi Layout.\"]"
   ],
   "metadata": {
    "collapsed": false
   }
  },
  {
   "cell_type": "code",
   "execution_count": 6,
   "outputs": [
    {
     "data": {
      "text/plain": "Prediction:   0%|          | 0/1 [00:00<?, ?it/s]",
      "application/vnd.jupyter.widget-view+json": {
       "version_major": 2,
       "version_minor": 0,
       "model_id": "4884d10ec6404115a3946b52a9074212"
      }
     },
     "metadata": {},
     "output_type": "display_data"
    },
    {
     "data": {
      "text/plain": "([[['BDA'],\n   ['Dasarahalli'],\n   ['Byrathikhane'],\n   ['Chellakere'],\n   ['Geddalahalli'],\n   ['K.Narayanapura'],\n   ['Rachenahalli'],\n   ['Amaruthahalli'],\n   ['Jakkur'],\n   ['Kempapura']]],\n [['organization',\n   'location',\n   'location',\n   'location',\n   'location',\n   'location',\n   'location',\n   'location',\n   'location',\n   'location']])"
     },
     "execution_count": 6,
     "metadata": {},
     "output_type": "execute_result"
    }
   ],
   "source": [
    "model.predict_single(texts=test_sentece)"
   ],
   "metadata": {
    "collapsed": false
   }
  }
 ],
 "metadata": {
  "kernelspec": {
   "display_name": "Python 3",
   "language": "python",
   "name": "python3"
  },
  "language_info": {
   "codemirror_mode": {
    "name": "ipython",
    "version": 2
   },
   "file_extension": ".py",
   "mimetype": "text/x-python",
   "name": "python",
   "nbconvert_exporter": "python",
   "pygments_lexer": "ipython2",
   "version": "2.7.6"
  }
 },
 "nbformat": 4,
 "nbformat_minor": 0
}
